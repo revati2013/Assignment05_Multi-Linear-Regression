{
  "nbformat": 4,
  "nbformat_minor": 0,
  "metadata": {
    "colab": {
      "name": "Assignment_5(50_startup).ipynb",
      "provenance": [],
      "authorship_tag": "ABX9TyNFT8LMBC3VhkxqQdVRsjBE",
      "include_colab_link": true
    },
    "kernelspec": {
      "name": "python3",
      "display_name": "Python 3"
    },
    "language_info": {
      "name": "python"
    }
  },
  "cells": [
    {
      "cell_type": "markdown",
      "metadata": {
        "id": "view-in-github",
        "colab_type": "text"
      },
      "source": [
        "<a href=\"https://colab.research.google.com/github/revati2013/Assignment05_Multi-Linear-Regression/blob/main/Assignment_5(50_startup).ipynb\" target=\"_parent\"><img src=\"https://colab.research.google.com/assets/colab-badge.svg\" alt=\"Open In Colab\"/></a>"
      ]
    },
    {
      "cell_type": "code",
      "metadata": {
        "id": "F0eOJlvNNCSc"
      },
      "source": [
        "import pandas as pd\n",
        "import numpy as np\n",
        "import seaborn as sns\n",
        "import matplotlib.pyplot as plt\n",
        "%matplotlib inline\n",
        "import statsmodels.formula.api as smf\n",
        "import statsmodels.api as sm\n",
        "from statsmodels.graphics.regressionplots import influence_plot"
      ],
      "execution_count": null,
      "outputs": []
    },
    {
      "cell_type": "code",
      "metadata": {
        "id": "hQJ_Z6qqOnLi"
      },
      "source": [
        "d=pd.read_csv('50_Startups.csv')"
      ],
      "execution_count": null,
      "outputs": []
    },
    {
      "cell_type": "code",
      "metadata": {
        "id": "XkxWI4tQPEQw"
      },
      "source": [
        "d"
      ],
      "execution_count": null,
      "outputs": []
    },
    {
      "cell_type": "code",
      "metadata": {
        "id": "yUsVakFFSH3t"
      },
      "source": [
        "data=d.rename({'R&D Spend':'RDS','Administration':'Adms','Marketing Spend':'MS'},axis=1)"
      ],
      "execution_count": null,
      "outputs": []
    },
    {
      "cell_type": "code",
      "metadata": {
        "id": "72cRK3E9PFkh"
      },
      "source": [
        "data.info()"
      ],
      "execution_count": null,
      "outputs": []
    },
    {
      "cell_type": "code",
      "metadata": {
        "id": "mh1-6PhrPaLf"
      },
      "source": [
        "data[data.duplicated()]"
      ],
      "execution_count": null,
      "outputs": []
    },
    {
      "cell_type": "markdown",
      "metadata": {
        "id": "VZ5KvF4sP1g6"
      },
      "source": [
        "No duplicate data"
      ]
    },
    {
      "cell_type": "code",
      "metadata": {
        "id": "i0YvUtM3PmhD"
      },
      "source": [
        "data.describe()"
      ],
      "execution_count": null,
      "outputs": []
    },
    {
      "cell_type": "code",
      "metadata": {
        "id": "XMjps3fHQCsY"
      },
      "source": [
        "#correlation analysis\n",
        "data.corr()"
      ],
      "execution_count": null,
      "outputs": []
    },
    {
      "cell_type": "code",
      "metadata": {
        "id": "Eo9Ecb1IQbpI"
      },
      "source": [
        "sns.pairplot(data)"
      ],
      "execution_count": null,
      "outputs": []
    },
    {
      "cell_type": "code",
      "metadata": {
        "id": "B5CWWdpHQ7kO"
      },
      "source": [
        "#model building\n",
        "model=smf.ols(\"Profit~RDS+Adms+MS\",data=data).fit()"
      ],
      "execution_count": null,
      "outputs": []
    },
    {
      "cell_type": "code",
      "metadata": {
        "id": "NC0b92ygR7vy"
      },
      "source": [
        "model.params"
      ],
      "execution_count": null,
      "outputs": []
    },
    {
      "cell_type": "code",
      "metadata": {
        "id": "7w18K-AeTscY"
      },
      "source": [
        "#finding tvalues and pvalues\n",
        "model.tvalues,np.round(model.pvalues,5)"
      ],
      "execution_count": null,
      "outputs": []
    },
    {
      "cell_type": "code",
      "metadata": {
        "id": "lYsj6cruUrXS"
      },
      "source": [
        "#finding rsquared values\n",
        "model.rsquared , model.rsquared_adj "
      ],
      "execution_count": null,
      "outputs": []
    },
    {
      "cell_type": "markdown",
      "metadata": {
        "id": "3KKcGJOqU_Cp"
      },
      "source": [
        "Model accuracy is 94.75%"
      ]
    },
    {
      "cell_type": "code",
      "metadata": {
        "id": "RTV-0AAdU9Yo"
      },
      "source": [
        "# Building SLR and MLR models for insignificant variables 'ADMS' and 'MKTS'\n",
        "# Also finding their tvalues and pvalues\n",
        "slr_a=smf.ols(\"Profit~Adms\", data=data).fit()\n",
        "slr_a.tvalues, slr_a.pvalues"
      ],
      "execution_count": null,
      "outputs": []
    },
    {
      "cell_type": "code",
      "metadata": {
        "id": "P8mVf2Mefhbj"
      },
      "source": [
        "slr_m=smf.ols(\"Profit~MS\",data=data).fit()\n",
        "slr_m.tvalues, slr_m.pvalues"
      ],
      "execution_count": null,
      "outputs": []
    },
    {
      "cell_type": "code",
      "metadata": {
        "id": "HBvInp1rgulR"
      },
      "source": [
        "mlr_am=smf.ols(\"Profit~Adms+MS\",data=data).fit()\n",
        "mlr_am.tvalues, mlr_am.pvalues"
      ],
      "execution_count": null,
      "outputs": []
    },
    {
      "cell_type": "code",
      "metadata": {
        "id": "yCRu6IZvhK78"
      },
      "source": [
        "# 1) Collinearity Problem Check\n",
        "# Calculate VIF = 1/(1-Rsquare) for all independent variables\n",
        "\n",
        "rsq_r=smf.ols(\"RDS~Adms+MS\",data=data).fit().rsquared\n",
        "vif_r=1/(1-rsq_r)\n",
        "\n",
        "rsq_a=smf.ols(\"Adms~RDS+MS\",data=data).fit().rsquared\n",
        "vif_a=1/(1-rsq_a)\n",
        "\n",
        "rsq_m=smf.ols(\"MS~RDS+Adms\",data=data).fit().rsquared\n",
        "vif_m=1/(1-rsq_m)\n",
        "\n",
        "# Putting the values in Dataframe format\n",
        "d1={'Variables':['RDS','Adms','MS'],'Vif':[vif_r,vif_a,vif_m]}\n",
        "Vif_df=pd.DataFrame(d1)\n",
        "Vif_df"
      ],
      "execution_count": null,
      "outputs": []
    },
    {
      "cell_type": "markdown",
      "metadata": {
        "id": "MZbNKJikiZ1_"
      },
      "source": [
        "None variable has VIF>20,no collinearity"
      ]
    },
    {
      "cell_type": "code",
      "metadata": {
        "id": "rWgB0fLgiLjH"
      },
      "source": [
        "# 2) Residual Analysis\n",
        "# Test for Normality of Residuals (Q-Q Plot) using residual model (model.resid)\n",
        "sm.qqplot(model.resid,line='q')\n",
        "plt.title(\"Normal QQ plot of residual\")\n",
        "plt.show()"
      ],
      "execution_count": null,
      "outputs": []
    },
    {
      "cell_type": "code",
      "metadata": {
        "id": "NKpGUXmijHDH"
      },
      "source": [
        "# Test for Homoscedasticity or Heteroscedasticity (plotting model's standardized fitted values vs standardized residual values)\n",
        "\n",
        "def standard_values(vals) : return (vals-vals.mean())/vals.std()  # User defined z = (x - mu)/sigma\n",
        "\n",
        "plt.scatter(standard_values(model.fittedvalues),standard_values(model.resid))\n",
        "plt.title('Residual Plot')\n",
        "plt.xlabel('standardized fitted values')\n",
        "plt.ylabel('standardized residual values')\n",
        "plt.show() "
      ],
      "execution_count": null,
      "outputs": []
    },
    {
      "cell_type": "code",
      "metadata": {
        "id": "ckIuvJK9pc1m"
      },
      "source": [
        "# Test for errors or Residuals Vs Regressors or independent 'x' variables or predictors \n",
        "fig=plt.figure(figsize=(15,8))\n",
        "sm.graphics.plot_regress_exog(model,'RDS',fig=fig)\n",
        "plt.show()"
      ],
      "execution_count": null,
      "outputs": []
    },
    {
      "cell_type": "code",
      "metadata": {
        "id": "o3-r70Igp5CD"
      },
      "source": [
        "fig=plt.figure(figsize=(15,8))\n",
        "sm.graphics.plot_regress_exog(model,'Adms',fig=fig)\n",
        "plt.show()"
      ],
      "execution_count": null,
      "outputs": []
    },
    {
      "cell_type": "code",
      "metadata": {
        "id": "E3qSNDtLqLWE"
      },
      "source": [
        "fig=plt.figure(figsize=(15,8))\n",
        "sm.graphics.plot_regress_exog(model,'MS',fig=fig)\n",
        "plt.show()"
      ],
      "execution_count": null,
      "outputs": []
    },
    {
      "cell_type": "code",
      "metadata": {
        "id": "y4QjuOOGqRkH"
      },
      "source": [
        "#Model Deletion Diagnostics (checking Outliers or Influencers)\n",
        "# Two Techniques : 1. Cook's Distance & 2. Leverage value\n",
        "(c,_)=model.get_influence().cooks_distance"
      ],
      "execution_count": null,
      "outputs": []
    },
    {
      "cell_type": "code",
      "metadata": {
        "id": "-kQkgpuAqyFk"
      },
      "source": [
        "c"
      ],
      "execution_count": null,
      "outputs": []
    },
    {
      "cell_type": "code",
      "metadata": {
        "id": "oyodN9Qhq5Re"
      },
      "source": [
        "# Plot the influencers using the stem plot\n",
        "fig=plt.figure(figsize=(15,7))\n",
        "plt.stem(np.arange(len(data)),np.round(c,5))\n",
        "plt.xlabel('Row Index')\n",
        "plt.ylabel('Cooks Distance')\n",
        "plt.show()"
      ],
      "execution_count": null,
      "outputs": []
    },
    {
      "cell_type": "code",
      "metadata": {
        "id": "djM-iyQVrwkz"
      },
      "source": [
        "# Index and value of influencer where C>0.5\n",
        "np.argmax(c),np.max(c)"
      ],
      "execution_count": null,
      "outputs": []
    },
    {
      "cell_type": "code",
      "metadata": {
        "id": "l4LuEWjCwH1J"
      },
      "source": [
        "# 2. Leverage Value using High Influence Points\n",
        "influence_plot(model)\n",
        "plt.show()"
      ],
      "execution_count": null,
      "outputs": []
    },
    {
      "cell_type": "code",
      "metadata": {
        "id": "iMc4kJnbwW_k"
      },
      "source": [
        "data[data.index.isin([49])]"
      ],
      "execution_count": null,
      "outputs": []
    },
    {
      "cell_type": "code",
      "metadata": {
        "id": "lXvhP1EGxaKH"
      },
      "source": [
        "data1=data.drop(data.index[[49]],axis=0)"
      ],
      "execution_count": null,
      "outputs": []
    },
    {
      "cell_type": "code",
      "metadata": {
        "id": "tFGJ3drOyB2P"
      },
      "source": [
        "data1"
      ],
      "execution_count": null,
      "outputs": []
    },
    {
      "cell_type": "code",
      "metadata": {
        "id": "e9k8UPjIyD28"
      },
      "source": [
        " # Final Model\n",
        " final_model=smf.ols(\"Profit~RDS+Adms+MS\",data=data1).fit()\n",
        " final_model.rsquared , final_model.aic"
      ],
      "execution_count": null,
      "outputs": []
    },
    {
      "cell_type": "markdown",
      "metadata": {
        "id": "qZW5ebDazKGr"
      },
      "source": [
        "model accuracy is improved to 96.13%"
      ]
    },
    {
      "cell_type": "code",
      "metadata": {
        "id": "9NiuscPRyrvW"
      },
      "source": [
        "#New data for prediction is\n",
        "new_data=pd.DataFrame({'RDS':70000,\"Adms\":90000,\"MS\":140000},index=[0])\n",
        "new_data"
      ],
      "execution_count": null,
      "outputs": []
    },
    {
      "cell_type": "code",
      "metadata": {
        "id": "7CNTen9yzm5I"
      },
      "source": [
        "final_model.predict(new_data)"
      ],
      "execution_count": null,
      "outputs": []
    },
    {
      "cell_type": "code",
      "metadata": {
        "id": "9bGy5Te4zu_c"
      },
      "source": [
        "# Automatic Prediction of Price with 90.02% accurcy\n",
        "pred_y=final_model.predict(data1)\n",
        "pred_y"
      ],
      "execution_count": null,
      "outputs": []
    },
    {
      "cell_type": "code",
      "metadata": {
        "id": "UNah3iEkz5Ds"
      },
      "source": [
        "#table containing R^2 value for each prepared model\n",
        "d2={'Prep_Models':['Model','Final_Model'],'Rsquared':[model.rsquared,final_model.rsquared]}\n",
        "table=pd.DataFrame(d2)"
      ],
      "execution_count": null,
      "outputs": []
    },
    {
      "cell_type": "code",
      "metadata": {
        "id": "AlhkNrJf0__8"
      },
      "source": [
        "table"
      ],
      "execution_count": null,
      "outputs": []
    },
    {
      "cell_type": "code",
      "metadata": {
        "id": "46BZG9P81BpF"
      },
      "source": [
        ""
      ],
      "execution_count": null,
      "outputs": []
    }
  ]
}