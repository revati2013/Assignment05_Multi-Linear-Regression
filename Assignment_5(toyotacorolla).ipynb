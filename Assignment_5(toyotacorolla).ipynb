{
  "cells": [
    {
      "cell_type": "markdown",
      "metadata": {
        "id": "view-in-github",
        "colab_type": "text"
      },
      "source": [
        "<a href=\"https://colab.research.google.com/github/revati2013/Assignment05_Multi-Linear-Regression/blob/main/Assignment_5(toyotacorolla).ipynb\" target=\"_parent\"><img src=\"https://colab.research.google.com/assets/colab-badge.svg\" alt=\"Open In Colab\"/></a>"
      ]
    },
    {
      "cell_type": "code",
      "execution_count": null,
      "metadata": {
        "id": "IfI42UwbQYKC"
      },
      "outputs": [],
      "source": [
        "import pandas as pd\n",
        "import numpy as np\n",
        "import seaborn as sns\n",
        "import matplotlib.pyplot as plt\n",
        "import statsmodels.formula.api as smf\n",
        "import statsmodels.api as sm\n",
        "from statsmodels.graphics.regressionplots import influence_plot"
      ]
    },
    {
      "cell_type": "code",
      "execution_count": null,
      "metadata": {
        "id": "UYWE1L4lROH5"
      },
      "outputs": [],
      "source": [
        "data=pd.read_csv('/content/ToyotaCorolla.csv',encoding='latin1')"
      ]
    },
    {
      "cell_type": "code",
      "execution_count": null,
      "metadata": {
        "id": "qUoJXTUiSizv"
      },
      "outputs": [],
      "source": [
        "data.head()"
      ]
    },
    {
      "cell_type": "code",
      "execution_count": null,
      "metadata": {
        "id": "RZ5rxzQWTGan"
      },
      "outputs": [],
      "source": [
        "#EDA\n",
        "data.info()"
      ]
    },
    {
      "cell_type": "code",
      "execution_count": null,
      "metadata": {
        "id": "WM3DQBkjTRBD"
      },
      "outputs": [],
      "source": [
        "data1=pd.concat([data.iloc[:,2:4],data.iloc[:,6:7],data.iloc[:,8:9],data.iloc[:,12:14],data.iloc[:,15:18]],axis=1)\n",
        "data1"
      ]
    },
    {
      "cell_type": "code",
      "execution_count": null,
      "metadata": {
        "id": "_x7iR_x-T3kw"
      },
      "outputs": [],
      "source": [
        "data2=data1.rename({'Age_08_04':'Age','cc':'CC','Quarterly_Tax':'QT'},axis=1)\n",
        "data2"
      ]
    },
    {
      "cell_type": "code",
      "execution_count": null,
      "metadata": {
        "id": "ojFzOXnBUn_J"
      },
      "outputs": [],
      "source": [
        "data2[data2.duplicated()]"
      ]
    },
    {
      "cell_type": "code",
      "execution_count": null,
      "metadata": {
        "id": "40w9ZQA_VAKJ"
      },
      "outputs": [],
      "source": [
        "data2=data2.drop_duplicates().reset_index(drop=True)\n",
        "data2"
      ]
    },
    {
      "cell_type": "code",
      "execution_count": null,
      "metadata": {
        "id": "xbZXOF5gVOOc"
      },
      "outputs": [],
      "source": [
        "data2.describe()"
      ]
    },
    {
      "cell_type": "code",
      "execution_count": null,
      "metadata": {
        "id": "99P7kA2-VSny"
      },
      "outputs": [],
      "source": [
        "#correlation analysis\n",
        "data2.corr()\n"
      ]
    },
    {
      "cell_type": "code",
      "execution_count": null,
      "metadata": {
        "id": "9x5NybPMV_Wj"
      },
      "outputs": [],
      "source": [
        "sns.pairplot(data2)"
      ]
    },
    {
      "cell_type": "code",
      "execution_count": null,
      "metadata": {
        "id": "fUAZP4bzWOrR"
      },
      "outputs": [],
      "source": [
        "#Building model\n",
        "model=smf.ols('Price~Age+KM+HP+CC+Doors+Gears+QT+Weight',data=data2).fit()"
      ]
    },
    {
      "cell_type": "code",
      "execution_count": null,
      "metadata": {
        "id": "D5nY3eApW9BH"
      },
      "outputs": [],
      "source": [
        "#Testing model\n",
        "model.params"
      ]
    },
    {
      "cell_type": "code",
      "execution_count": null,
      "metadata": {
        "id": "BUb3qrE6XdpX"
      },
      "outputs": [],
      "source": [
        "#finding tvalues and pvalues\n",
        "model.tvalues ,np.round( model.pvalues,5)"
      ]
    },
    {
      "cell_type": "code",
      "execution_count": null,
      "metadata": {
        "id": "UKSeXCmPYFxk"
      },
      "outputs": [],
      "source": [
        "#calculating rsquared and rsquared_adj values\n",
        "model.rsquared, model.rsquared_adj"
      ]
    },
    {
      "cell_type": "markdown",
      "metadata": {
        "id": "GHHVUYYCZAdq"
      },
      "source": [
        "model accuracy is=86.17%\n"
      ]
    },
    {
      "cell_type": "code",
      "execution_count": null,
      "metadata": {
        "id": "yP30MIflY93n"
      },
      "outputs": [],
      "source": [
        "# Building SLR and MLR models for insignificant variables 'CC' and 'Doors'\n",
        "# Also find their tvalues and pvalues"
      ]
    },
    {
      "cell_type": "code",
      "execution_count": null,
      "metadata": {
        "id": "YCtYmnu0ZXGo"
      },
      "outputs": [],
      "source": [
        "slr_c=smf.ols('Price~CC',data=data2).fit()\n",
        "slr_c.tvalues , slr_c.pvalues"
      ]
    },
    {
      "cell_type": "code",
      "execution_count": null,
      "metadata": {
        "id": "jrHLJ96haM5-"
      },
      "outputs": [],
      "source": [
        "slr_d=smf.ols('Price~Doors',data=data2).fit()\n",
        "slr_d.tvalues , slr_d.pvalues"
      ]
    },
    {
      "cell_type": "code",
      "execution_count": null,
      "metadata": {
        "id": "rzf1v_g5bBEh"
      },
      "outputs": [],
      "source": [
        "mlr_cd=smf.ols('Price~CC+Doors',data=data2).fit()\n",
        "mlr_cd.tvalues , mlr_cd.pvalues"
      ]
    },
    {
      "cell_type": "code",
      "execution_count": null,
      "metadata": {
        "id": "c0NWkJQOcBFp"
      },
      "outputs": [],
      "source": [
        "#model validation techniques\n",
        "#two techniques-1.Collinearity Check , 2. Residual Analysis\n"
      ]
    },
    {
      "cell_type": "code",
      "execution_count": null,
      "metadata": {
        "id": "v7ltZAWMmBQY"
      },
      "outputs": [],
      "source": [
        "# 1) Collinearity Problem Check\n",
        "# Calculate VIF = 1/(1-Rsquare) for all independent variables\n",
        "\n",
        "rsq_age=smf.ols('Age~KM+HP+CC+Doors+Gears+QT+Weight',data=data2).fit().rsquared\n",
        "vif_age=1/(1-rsq_age)\n",
        "\n",
        "rsq_KM=smf.ols('KM~Age+HP+CC+Doors+Gears+QT+Weight',data=data2).fit().rsquared\n",
        "vif_KM=1/(1-rsq_KM)\n",
        "\n",
        "rsq_HP=smf.ols('HP~Age+KM+CC+Doors+Gears+QT+Weight',data=data2).fit().rsquared\n",
        "vif_HP=1/(1-rsq_HP)\n",
        "\n",
        "rsq_CC=smf.ols('CC~Age+KM+HP+Doors+Gears+QT+Weight',data=data2).fit().rsquared\n",
        "vif_CC=1/(1-rsq_CC)\n",
        "\n",
        "rsq_DR=smf.ols('Doors~Age+KM+HP+CC+Gears+QT+Weight',data=data2).fit().rsquared\n",
        "vif_DR=1/(1-rsq_DR)\n",
        "\n",
        "rsq_GR=smf.ols('Gears~Age+KM+HP+CC+Doors+QT+Weight',data=data2).fit().rsquared\n",
        "vif_GR=1/(1-rsq_GR)\n",
        "\n",
        "rsq_QT=smf.ols('QT~Age+KM+HP+CC+Doors+Gears+Weight',data=data2).fit().rsquared\n",
        "vif_QT=1/(1-rsq_QT)\n",
        "\n",
        "rsq_WT=smf.ols('Weight~Age+KM+HP+CC+Doors+Gears+QT',data=data2).fit().rsquared\n",
        "vif_WT=1/(1-rsq_WT)\n",
        "\n",
        "# Putting the values in Dataframe format\n",
        "d1={'Variables':['Age','KM','HP','CC','Doors','Gears','QT','Weight'],\n",
        "    'Vif':[vif_age,vif_KM,vif_HP,vif_CC,vif_DR,vif_GR,vif_QT,vif_WT]}\n",
        "Vif_df=pd.DataFrame(d1)\n",
        "Vif_df"
      ]
    },
    {
      "cell_type": "code",
      "execution_count": null,
      "metadata": {
        "id": "LNUPNNA5ml48"
      },
      "outputs": [],
      "source": [
        "# 2) Residual Analysis\n",
        "# Test for Normality of Residuals (Q-Q Plot) using residual model (model.resid)\n",
        "sm.qqplot(model.resid,line='q') \n",
        "plt.title(\"Normal Q-Q plot of residuals\")\n",
        "plt.show()"
      ]
    },
    {
      "cell_type": "code",
      "execution_count": null,
      "metadata": {
        "id": "pi5ptTqGmqT_"
      },
      "outputs": [],
      "source": [
        "#outlier detection from above Q-Q plot residual\n",
        "list(np.where(model.resid>6000)) "
      ]
    },
    {
      "cell_type": "code",
      "execution_count": null,
      "metadata": {
        "id": "k7iTryJ-nBkg"
      },
      "outputs": [],
      "source": [
        "list(np.where(model.resid<-6000))"
      ]
    },
    {
      "cell_type": "code",
      "execution_count": null,
      "metadata": {
        "id": "I96N3GLenLnZ"
      },
      "outputs": [],
      "source": [
        "# Test for Homoscedasticity or Heteroscedasticity (plotting model's standardized fitted values vs standardized residual values)\n",
        "\n",
        "def standard_values(vals) : return (vals-vals.mean())/vals.std() "
      ]
    },
    {
      "cell_type": "code",
      "execution_count": null,
      "metadata": {
        "id": "LlWgqcN1ni0v"
      },
      "outputs": [],
      "source": [
        "plt.scatter(standard_values(model.fittedvalues),standard_values(model.resid))\n",
        "plt.title('Residual Plot')\n",
        "plt.xlabel('standardized fitted values')\n",
        "plt.ylabel('standardized residual values')\n",
        "plt.show() "
      ]
    },
    {
      "cell_type": "code",
      "execution_count": null,
      "metadata": {
        "id": "GCffGn8snoQf"
      },
      "outputs": [],
      "source": [
        "# Test for errors or Residuals Vs Regressors or independent 'x' variables or predictors \n",
        "# using Residual Regression Plots code graphics.plot_regress_exog(model,'x',fig)  "
      ]
    },
    {
      "cell_type": "code",
      "execution_count": null,
      "metadata": {
        "id": "Mimcm51inw35"
      },
      "outputs": [],
      "source": [
        "fig=plt.figure(figsize=(15,8))\n",
        "sm.graphics.plot_regress_exog(model,'Age',fig=fig)\n",
        "plt.show()"
      ]
    },
    {
      "cell_type": "code",
      "execution_count": null,
      "metadata": {
        "id": "S2ZN3plSn3Wy"
      },
      "outputs": [],
      "source": [
        "fig=plt.figure(figsize=(15,8))\n",
        "sm.graphics.plot_regress_exog(model,'KM',fig=fig)\n",
        "plt.show()"
      ]
    },
    {
      "cell_type": "code",
      "execution_count": null,
      "metadata": {
        "id": "zbQ6u0fYoVw4"
      },
      "outputs": [],
      "source": [
        "fig=plt.figure(figsize=(15,8))\n",
        "sm.graphics.plot_regress_exog(model,'HP',fig=fig)\n",
        "plt.show()"
      ]
    },
    {
      "cell_type": "code",
      "execution_count": null,
      "metadata": {
        "id": "D-ziuddyodsF"
      },
      "outputs": [],
      "source": [
        "fig=plt.figure(figsize=(15,8))\n",
        "sm.graphics.plot_regress_exog(model,'CC',fig=fig)\n",
        "plt.show()"
      ]
    },
    {
      "cell_type": "code",
      "execution_count": null,
      "metadata": {
        "id": "VHrGy3RVolVR"
      },
      "outputs": [],
      "source": [
        "fig=plt.figure(figsize=(15,8))\n",
        "sm.graphics.plot_regress_exog(model,'Doors',fig=fig)\n",
        "plt.show()"
      ]
    },
    {
      "cell_type": "code",
      "execution_count": null,
      "metadata": {
        "id": "kC7nRt2OoqFg"
      },
      "outputs": [],
      "source": [
        "fig=plt.figure(figsize=(15,8))\n",
        "sm.graphics.plot_regress_exog(model,'Gears',fig=fig)\n",
        "plt.show()"
      ]
    },
    {
      "cell_type": "code",
      "execution_count": null,
      "metadata": {
        "id": "W9f0JA-9o-OE"
      },
      "outputs": [],
      "source": [
        "fig=plt.figure(figsize=(15,8))\n",
        "sm.graphics.plot_regress_exog(model,'QT',fig=fig)\n",
        "plt.show()"
      ]
    },
    {
      "cell_type": "code",
      "execution_count": null,
      "metadata": {
        "id": "CFakWl9JpD8F"
      },
      "outputs": [],
      "source": [
        "fig=plt.figure(figsize=(15,8))\n",
        "sm.graphics.plot_regress_exog(model,'Weight',fig=fig)\n",
        "plt.show()"
      ]
    },
    {
      "cell_type": "code",
      "execution_count": null,
      "metadata": {
        "id": "Dlc4wgfYqECx"
      },
      "outputs": [],
      "source": [
        "#Model Deletion Diagnostics (checking Outliers or Influencers)\n",
        "#Two Techniques : 1. Cook's Distance , 2. Leverage value"
      ]
    },
    {
      "cell_type": "code",
      "execution_count": null,
      "metadata": {
        "id": "wQKO-t8TqcHn"
      },
      "outputs": [],
      "source": [
        "# 1. Cook's Distance: If Cook's distance > 1, then it's an outlier\n",
        "# Get influencers using cook's distance\n",
        "(c,_)=model.get_influence().cooks_distance\n",
        "c"
      ]
    },
    {
      "cell_type": "code",
      "execution_count": null,
      "metadata": {
        "id": "C3K2Z-jmqeF-"
      },
      "outputs": [],
      "source": [
        "fig=plt.figure(figsize=(20,7))\n",
        "plt.stem(np.arange(len(data2)),np.round(c,3))\n",
        "plt.xlabel('Row Index')\n",
        "plt.ylabel('Cooks Distance')\n",
        "plt.show()"
      ]
    },
    {
      "cell_type": "code",
      "execution_count": null,
      "metadata": {
        "id": "JuxxJ7ZMrJ64"
      },
      "outputs": [],
      "source": [
        "# Index and value of influencer where C>0.5\n",
        "np.argmax(c) , np.max(c)"
      ]
    },
    {
      "cell_type": "code",
      "execution_count": null,
      "metadata": {
        "id": "xZ-QlQFUqoXh"
      },
      "outputs": [],
      "source": [
        "# 2. Leverage Value using High Influence Points : Points beyond Leverage_cutoff value are influencers\n",
        "fig,ax=plt.subplots(figsize=(20,20))\n",
        "fig=influence_plot(model,ax = ax)"
      ]
    },
    {
      "cell_type": "code",
      "execution_count": null,
      "metadata": {
        "id": "J6XdAy1sq8Ga"
      },
      "outputs": [],
      "source": [
        "# Leverage Cuttoff Value = 3*(k+1)/n ; k = no.of features/columns & n = no. of datapoints\n",
        "k=data2.shape[1]\n",
        "n=data2.shape[0]\n",
        "leverage_cutoff = (3*(k+1))/n\n",
        "leverage_cutoff"
      ]
    },
    {
      "cell_type": "code",
      "execution_count": null,
      "metadata": {
        "id": "rDaj27rztO3T"
      },
      "outputs": [],
      "source": [
        "data2[data2.index.isin([80])] "
      ]
    },
    {
      "cell_type": "code",
      "execution_count": null,
      "metadata": {
        "id": "--ubwuijrXlt"
      },
      "outputs": [],
      "source": [
        "data3=data2.drop(data2.index[[80]],axis=0).reset_index(drop=True)\n",
        "data3"
      ]
    },
    {
      "cell_type": "code",
      "source": [
        "if np.max(c)>0.5:\n",
        "    model=smf.ols('Price~Age+KM+HP+CC+Doors+Gears+QT+Weight',data=data3).fit()\n",
        "    (c,_)=model.get_influence().cooks_distance\n",
        "    c\n",
        "    np.argmax(c) , np.max(c)\n",
        "    data3=data3.drop(data3.index[[np.argmax(c)]],axis=0).reset_index(drop=True)\n",
        "    data3\n",
        "elif np.max(c)<0.5:\n",
        "    final_model=smf.ols('Price~Age+KM+HP+CC+Doors+Gears+QT+Weight',data=data3).fit()\n",
        "    final_model.rsquared , final_model.aic\n",
        "    print(\"Thus model accuracy is improved to\",final_model.rsquared)"
      ],
      "metadata": {
        "id": "lLRaiVmZ6hap"
      },
      "execution_count": null,
      "outputs": []
    },
    {
      "cell_type": "code",
      "source": [
        "final_model.rsquared*100"
      ],
      "metadata": {
        "id": "y5P_MY_z6zYe"
      },
      "execution_count": null,
      "outputs": []
    },
    {
      "cell_type": "code",
      "source": [
        "data3"
      ],
      "metadata": {
        "id": "D9QhbHXZ7J6Q"
      },
      "execution_count": null,
      "outputs": []
    },
    {
      "cell_type": "code",
      "source": [
        "#Model Prediction\n",
        "# say New data for prediction is\n",
        "new_data=pd.DataFrame({'Age':12,\"KM\":40000,\"HP\":80,\"CC\":1300,\"Doors\":4,\"Gears\":5,\"QT\":69,\"Weight\":1012},index=[0])\n",
        "new_data"
      ],
      "metadata": {
        "id": "cjmyWfnl7Q-c"
      },
      "execution_count": null,
      "outputs": []
    },
    {
      "cell_type": "code",
      "source": [
        "# Manual Prediction of Price\n",
        "final_model.predict(new_data)"
      ],
      "metadata": {
        "id": "Rn_2qNRF7cTl"
      },
      "execution_count": null,
      "outputs": []
    },
    {
      "cell_type": "code",
      "source": [
        "# Automatic Prediction of Price with 90.02% accurcy\n",
        "pred_y=final_model.predict(data3)\n",
        "pred_y"
      ],
      "metadata": {
        "id": "4w6CsQPF7hAp"
      },
      "execution_count": null,
      "outputs": []
    },
    {
      "cell_type": "code",
      "source": [
        ""
      ],
      "metadata": {
        "id": "y3IZKqUC7lmg"
      },
      "execution_count": null,
      "outputs": []
    }
  ],
  "metadata": {
    "colab": {
      "collapsed_sections": [],
      "name": "Assignment_5(toyotacorolla).ipynb",
      "provenance": [],
      "authorship_tag": "ABX9TyMbvmuYV/dGKl9RNx2sqxG2",
      "include_colab_link": true
    },
    "kernelspec": {
      "display_name": "Python 3",
      "name": "python3"
    },
    "language_info": {
      "name": "python"
    }
  },
  "nbformat": 4,
  "nbformat_minor": 0
}